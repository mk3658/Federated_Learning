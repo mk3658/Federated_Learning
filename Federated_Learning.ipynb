{
  "nbformat": 4,
  "nbformat_minor": 0,
  "metadata": {
    "colab": {
      "name": "Federated-Learning.ipynb",
      "provenance": [],
      "collapsed_sections": [],
      "toc_visible": true,
      "authorship_tag": "ABX9TyO7whAyay+DckbijhOA2GgM",
      "include_colab_link": true
    },
    "kernelspec": {
      "name": "python3",
      "display_name": "Python 3"
    },
    "language_info": {
      "name": "python"
    },
    "widgets": {
      "application/vnd.jupyter.widget-state+json": {
        "40f411185e9742c09b345d647eb4cb61": {
          "model_module": "@jupyter-widgets/controls",
          "model_name": "HBoxModel",
          "model_module_version": "1.5.0",
          "state": {
            "_dom_classes": [],
            "_model_module": "@jupyter-widgets/controls",
            "_model_module_version": "1.5.0",
            "_model_name": "HBoxModel",
            "_view_count": null,
            "_view_module": "@jupyter-widgets/controls",
            "_view_module_version": "1.5.0",
            "_view_name": "HBoxView",
            "box_style": "",
            "children": [
              "IPY_MODEL_0d7388a3e9a942479550fc278f441ec8",
              "IPY_MODEL_0df02189ba604e4e8b5c8865f4d2a2d8",
              "IPY_MODEL_1306e286c0294ad69100acc32c56c907"
            ],
            "layout": "IPY_MODEL_c65d7c6c654d4cf2b5a9a7e7b875a483"
          }
        },
        "0d7388a3e9a942479550fc278f441ec8": {
          "model_module": "@jupyter-widgets/controls",
          "model_name": "HTMLModel",
          "model_module_version": "1.5.0",
          "state": {
            "_dom_classes": [],
            "_model_module": "@jupyter-widgets/controls",
            "_model_module_version": "1.5.0",
            "_model_name": "HTMLModel",
            "_view_count": null,
            "_view_module": "@jupyter-widgets/controls",
            "_view_module_version": "1.5.0",
            "_view_name": "HTMLView",
            "description": "",
            "description_tooltip": null,
            "layout": "IPY_MODEL_4b234e446bb74fc39f6e1644123a4c20",
            "placeholder": "​",
            "style": "IPY_MODEL_94f664ea8c444a0e9e31a24bfdc26790",
            "value": ""
          }
        },
        "0df02189ba604e4e8b5c8865f4d2a2d8": {
          "model_module": "@jupyter-widgets/controls",
          "model_name": "FloatProgressModel",
          "model_module_version": "1.5.0",
          "state": {
            "_dom_classes": [],
            "_model_module": "@jupyter-widgets/controls",
            "_model_module_version": "1.5.0",
            "_model_name": "FloatProgressModel",
            "_view_count": null,
            "_view_module": "@jupyter-widgets/controls",
            "_view_module_version": "1.5.0",
            "_view_name": "ProgressView",
            "bar_style": "success",
            "description": "",
            "description_tooltip": null,
            "layout": "IPY_MODEL_8551e6700b194492b895556694ad7bd5",
            "max": 9912422,
            "min": 0,
            "orientation": "horizontal",
            "style": "IPY_MODEL_01e7904dbae4447e8696d4c95fb1c123",
            "value": 9912422
          }
        },
        "1306e286c0294ad69100acc32c56c907": {
          "model_module": "@jupyter-widgets/controls",
          "model_name": "HTMLModel",
          "model_module_version": "1.5.0",
          "state": {
            "_dom_classes": [],
            "_model_module": "@jupyter-widgets/controls",
            "_model_module_version": "1.5.0",
            "_model_name": "HTMLModel",
            "_view_count": null,
            "_view_module": "@jupyter-widgets/controls",
            "_view_module_version": "1.5.0",
            "_view_name": "HTMLView",
            "description": "",
            "description_tooltip": null,
            "layout": "IPY_MODEL_c8298902e93845acb1a8ef87f406244e",
            "placeholder": "​",
            "style": "IPY_MODEL_b91d6b338f4e4568885ca312aa5e29da",
            "value": " 9913344/? [00:00&lt;00:00, 48403833.74it/s]"
          }
        },
        "c65d7c6c654d4cf2b5a9a7e7b875a483": {
          "model_module": "@jupyter-widgets/base",
          "model_name": "LayoutModel",
          "model_module_version": "1.2.0",
          "state": {
            "_model_module": "@jupyter-widgets/base",
            "_model_module_version": "1.2.0",
            "_model_name": "LayoutModel",
            "_view_count": null,
            "_view_module": "@jupyter-widgets/base",
            "_view_module_version": "1.2.0",
            "_view_name": "LayoutView",
            "align_content": null,
            "align_items": null,
            "align_self": null,
            "border": null,
            "bottom": null,
            "display": null,
            "flex": null,
            "flex_flow": null,
            "grid_area": null,
            "grid_auto_columns": null,
            "grid_auto_flow": null,
            "grid_auto_rows": null,
            "grid_column": null,
            "grid_gap": null,
            "grid_row": null,
            "grid_template_areas": null,
            "grid_template_columns": null,
            "grid_template_rows": null,
            "height": null,
            "justify_content": null,
            "justify_items": null,
            "left": null,
            "margin": null,
            "max_height": null,
            "max_width": null,
            "min_height": null,
            "min_width": null,
            "object_fit": null,
            "object_position": null,
            "order": null,
            "overflow": null,
            "overflow_x": null,
            "overflow_y": null,
            "padding": null,
            "right": null,
            "top": null,
            "visibility": null,
            "width": null
          }
        },
        "4b234e446bb74fc39f6e1644123a4c20": {
          "model_module": "@jupyter-widgets/base",
          "model_name": "LayoutModel",
          "model_module_version": "1.2.0",
          "state": {
            "_model_module": "@jupyter-widgets/base",
            "_model_module_version": "1.2.0",
            "_model_name": "LayoutModel",
            "_view_count": null,
            "_view_module": "@jupyter-widgets/base",
            "_view_module_version": "1.2.0",
            "_view_name": "LayoutView",
            "align_content": null,
            "align_items": null,
            "align_self": null,
            "border": null,
            "bottom": null,
            "display": null,
            "flex": null,
            "flex_flow": null,
            "grid_area": null,
            "grid_auto_columns": null,
            "grid_auto_flow": null,
            "grid_auto_rows": null,
            "grid_column": null,
            "grid_gap": null,
            "grid_row": null,
            "grid_template_areas": null,
            "grid_template_columns": null,
            "grid_template_rows": null,
            "height": null,
            "justify_content": null,
            "justify_items": null,
            "left": null,
            "margin": null,
            "max_height": null,
            "max_width": null,
            "min_height": null,
            "min_width": null,
            "object_fit": null,
            "object_position": null,
            "order": null,
            "overflow": null,
            "overflow_x": null,
            "overflow_y": null,
            "padding": null,
            "right": null,
            "top": null,
            "visibility": null,
            "width": null
          }
        },
        "94f664ea8c444a0e9e31a24bfdc26790": {
          "model_module": "@jupyter-widgets/controls",
          "model_name": "DescriptionStyleModel",
          "model_module_version": "1.5.0",
          "state": {
            "_model_module": "@jupyter-widgets/controls",
            "_model_module_version": "1.5.0",
            "_model_name": "DescriptionStyleModel",
            "_view_count": null,
            "_view_module": "@jupyter-widgets/base",
            "_view_module_version": "1.2.0",
            "_view_name": "StyleView",
            "description_width": ""
          }
        },
        "8551e6700b194492b895556694ad7bd5": {
          "model_module": "@jupyter-widgets/base",
          "model_name": "LayoutModel",
          "model_module_version": "1.2.0",
          "state": {
            "_model_module": "@jupyter-widgets/base",
            "_model_module_version": "1.2.0",
            "_model_name": "LayoutModel",
            "_view_count": null,
            "_view_module": "@jupyter-widgets/base",
            "_view_module_version": "1.2.0",
            "_view_name": "LayoutView",
            "align_content": null,
            "align_items": null,
            "align_self": null,
            "border": null,
            "bottom": null,
            "display": null,
            "flex": null,
            "flex_flow": null,
            "grid_area": null,
            "grid_auto_columns": null,
            "grid_auto_flow": null,
            "grid_auto_rows": null,
            "grid_column": null,
            "grid_gap": null,
            "grid_row": null,
            "grid_template_areas": null,
            "grid_template_columns": null,
            "grid_template_rows": null,
            "height": null,
            "justify_content": null,
            "justify_items": null,
            "left": null,
            "margin": null,
            "max_height": null,
            "max_width": null,
            "min_height": null,
            "min_width": null,
            "object_fit": null,
            "object_position": null,
            "order": null,
            "overflow": null,
            "overflow_x": null,
            "overflow_y": null,
            "padding": null,
            "right": null,
            "top": null,
            "visibility": null,
            "width": null
          }
        },
        "01e7904dbae4447e8696d4c95fb1c123": {
          "model_module": "@jupyter-widgets/controls",
          "model_name": "ProgressStyleModel",
          "model_module_version": "1.5.0",
          "state": {
            "_model_module": "@jupyter-widgets/controls",
            "_model_module_version": "1.5.0",
            "_model_name": "ProgressStyleModel",
            "_view_count": null,
            "_view_module": "@jupyter-widgets/base",
            "_view_module_version": "1.2.0",
            "_view_name": "StyleView",
            "bar_color": null,
            "description_width": ""
          }
        },
        "c8298902e93845acb1a8ef87f406244e": {
          "model_module": "@jupyter-widgets/base",
          "model_name": "LayoutModel",
          "model_module_version": "1.2.0",
          "state": {
            "_model_module": "@jupyter-widgets/base",
            "_model_module_version": "1.2.0",
            "_model_name": "LayoutModel",
            "_view_count": null,
            "_view_module": "@jupyter-widgets/base",
            "_view_module_version": "1.2.0",
            "_view_name": "LayoutView",
            "align_content": null,
            "align_items": null,
            "align_self": null,
            "border": null,
            "bottom": null,
            "display": null,
            "flex": null,
            "flex_flow": null,
            "grid_area": null,
            "grid_auto_columns": null,
            "grid_auto_flow": null,
            "grid_auto_rows": null,
            "grid_column": null,
            "grid_gap": null,
            "grid_row": null,
            "grid_template_areas": null,
            "grid_template_columns": null,
            "grid_template_rows": null,
            "height": null,
            "justify_content": null,
            "justify_items": null,
            "left": null,
            "margin": null,
            "max_height": null,
            "max_width": null,
            "min_height": null,
            "min_width": null,
            "object_fit": null,
            "object_position": null,
            "order": null,
            "overflow": null,
            "overflow_x": null,
            "overflow_y": null,
            "padding": null,
            "right": null,
            "top": null,
            "visibility": null,
            "width": null
          }
        },
        "b91d6b338f4e4568885ca312aa5e29da": {
          "model_module": "@jupyter-widgets/controls",
          "model_name": "DescriptionStyleModel",
          "model_module_version": "1.5.0",
          "state": {
            "_model_module": "@jupyter-widgets/controls",
            "_model_module_version": "1.5.0",
            "_model_name": "DescriptionStyleModel",
            "_view_count": null,
            "_view_module": "@jupyter-widgets/base",
            "_view_module_version": "1.2.0",
            "_view_name": "StyleView",
            "description_width": ""
          }
        },
        "5ae99929dc3046c4a6cb3eb94796aad4": {
          "model_module": "@jupyter-widgets/controls",
          "model_name": "HBoxModel",
          "model_module_version": "1.5.0",
          "state": {
            "_dom_classes": [],
            "_model_module": "@jupyter-widgets/controls",
            "_model_module_version": "1.5.0",
            "_model_name": "HBoxModel",
            "_view_count": null,
            "_view_module": "@jupyter-widgets/controls",
            "_view_module_version": "1.5.0",
            "_view_name": "HBoxView",
            "box_style": "",
            "children": [
              "IPY_MODEL_250400e5952341339e682d3f65d146d0",
              "IPY_MODEL_5ba57693849b455aa582152eee444fdd",
              "IPY_MODEL_bdeff3e940f8487fb9c4fb7a17f65926"
            ],
            "layout": "IPY_MODEL_1ff36fcf4a9547348f079d620d343d94"
          }
        },
        "250400e5952341339e682d3f65d146d0": {
          "model_module": "@jupyter-widgets/controls",
          "model_name": "HTMLModel",
          "model_module_version": "1.5.0",
          "state": {
            "_dom_classes": [],
            "_model_module": "@jupyter-widgets/controls",
            "_model_module_version": "1.5.0",
            "_model_name": "HTMLModel",
            "_view_count": null,
            "_view_module": "@jupyter-widgets/controls",
            "_view_module_version": "1.5.0",
            "_view_name": "HTMLView",
            "description": "",
            "description_tooltip": null,
            "layout": "IPY_MODEL_59ae14d8de3e4b13963e5103ade1638e",
            "placeholder": "​",
            "style": "IPY_MODEL_34e5517368ba48f4a93a5bef24ef34db",
            "value": ""
          }
        },
        "5ba57693849b455aa582152eee444fdd": {
          "model_module": "@jupyter-widgets/controls",
          "model_name": "FloatProgressModel",
          "model_module_version": "1.5.0",
          "state": {
            "_dom_classes": [],
            "_model_module": "@jupyter-widgets/controls",
            "_model_module_version": "1.5.0",
            "_model_name": "FloatProgressModel",
            "_view_count": null,
            "_view_module": "@jupyter-widgets/controls",
            "_view_module_version": "1.5.0",
            "_view_name": "ProgressView",
            "bar_style": "success",
            "description": "",
            "description_tooltip": null,
            "layout": "IPY_MODEL_725bb1d822024fcd970b31273c358d46",
            "max": 28881,
            "min": 0,
            "orientation": "horizontal",
            "style": "IPY_MODEL_8c3586083c644ebbac3f0d6f6928c8e0",
            "value": 28881
          }
        },
        "bdeff3e940f8487fb9c4fb7a17f65926": {
          "model_module": "@jupyter-widgets/controls",
          "model_name": "HTMLModel",
          "model_module_version": "1.5.0",
          "state": {
            "_dom_classes": [],
            "_model_module": "@jupyter-widgets/controls",
            "_model_module_version": "1.5.0",
            "_model_name": "HTMLModel",
            "_view_count": null,
            "_view_module": "@jupyter-widgets/controls",
            "_view_module_version": "1.5.0",
            "_view_name": "HTMLView",
            "description": "",
            "description_tooltip": null,
            "layout": "IPY_MODEL_e862a9596a7d4090a237a6082ceae530",
            "placeholder": "​",
            "style": "IPY_MODEL_103fd7c6d5774d08931922769979c3d8",
            "value": " 29696/? [00:00&lt;00:00, 579606.93it/s]"
          }
        },
        "1ff36fcf4a9547348f079d620d343d94": {
          "model_module": "@jupyter-widgets/base",
          "model_name": "LayoutModel",
          "model_module_version": "1.2.0",
          "state": {
            "_model_module": "@jupyter-widgets/base",
            "_model_module_version": "1.2.0",
            "_model_name": "LayoutModel",
            "_view_count": null,
            "_view_module": "@jupyter-widgets/base",
            "_view_module_version": "1.2.0",
            "_view_name": "LayoutView",
            "align_content": null,
            "align_items": null,
            "align_self": null,
            "border": null,
            "bottom": null,
            "display": null,
            "flex": null,
            "flex_flow": null,
            "grid_area": null,
            "grid_auto_columns": null,
            "grid_auto_flow": null,
            "grid_auto_rows": null,
            "grid_column": null,
            "grid_gap": null,
            "grid_row": null,
            "grid_template_areas": null,
            "grid_template_columns": null,
            "grid_template_rows": null,
            "height": null,
            "justify_content": null,
            "justify_items": null,
            "left": null,
            "margin": null,
            "max_height": null,
            "max_width": null,
            "min_height": null,
            "min_width": null,
            "object_fit": null,
            "object_position": null,
            "order": null,
            "overflow": null,
            "overflow_x": null,
            "overflow_y": null,
            "padding": null,
            "right": null,
            "top": null,
            "visibility": null,
            "width": null
          }
        },
        "59ae14d8de3e4b13963e5103ade1638e": {
          "model_module": "@jupyter-widgets/base",
          "model_name": "LayoutModel",
          "model_module_version": "1.2.0",
          "state": {
            "_model_module": "@jupyter-widgets/base",
            "_model_module_version": "1.2.0",
            "_model_name": "LayoutModel",
            "_view_count": null,
            "_view_module": "@jupyter-widgets/base",
            "_view_module_version": "1.2.0",
            "_view_name": "LayoutView",
            "align_content": null,
            "align_items": null,
            "align_self": null,
            "border": null,
            "bottom": null,
            "display": null,
            "flex": null,
            "flex_flow": null,
            "grid_area": null,
            "grid_auto_columns": null,
            "grid_auto_flow": null,
            "grid_auto_rows": null,
            "grid_column": null,
            "grid_gap": null,
            "grid_row": null,
            "grid_template_areas": null,
            "grid_template_columns": null,
            "grid_template_rows": null,
            "height": null,
            "justify_content": null,
            "justify_items": null,
            "left": null,
            "margin": null,
            "max_height": null,
            "max_width": null,
            "min_height": null,
            "min_width": null,
            "object_fit": null,
            "object_position": null,
            "order": null,
            "overflow": null,
            "overflow_x": null,
            "overflow_y": null,
            "padding": null,
            "right": null,
            "top": null,
            "visibility": null,
            "width": null
          }
        },
        "34e5517368ba48f4a93a5bef24ef34db": {
          "model_module": "@jupyter-widgets/controls",
          "model_name": "DescriptionStyleModel",
          "model_module_version": "1.5.0",
          "state": {
            "_model_module": "@jupyter-widgets/controls",
            "_model_module_version": "1.5.0",
            "_model_name": "DescriptionStyleModel",
            "_view_count": null,
            "_view_module": "@jupyter-widgets/base",
            "_view_module_version": "1.2.0",
            "_view_name": "StyleView",
            "description_width": ""
          }
        },
        "725bb1d822024fcd970b31273c358d46": {
          "model_module": "@jupyter-widgets/base",
          "model_name": "LayoutModel",
          "model_module_version": "1.2.0",
          "state": {
            "_model_module": "@jupyter-widgets/base",
            "_model_module_version": "1.2.0",
            "_model_name": "LayoutModel",
            "_view_count": null,
            "_view_module": "@jupyter-widgets/base",
            "_view_module_version": "1.2.0",
            "_view_name": "LayoutView",
            "align_content": null,
            "align_items": null,
            "align_self": null,
            "border": null,
            "bottom": null,
            "display": null,
            "flex": null,
            "flex_flow": null,
            "grid_area": null,
            "grid_auto_columns": null,
            "grid_auto_flow": null,
            "grid_auto_rows": null,
            "grid_column": null,
            "grid_gap": null,
            "grid_row": null,
            "grid_template_areas": null,
            "grid_template_columns": null,
            "grid_template_rows": null,
            "height": null,
            "justify_content": null,
            "justify_items": null,
            "left": null,
            "margin": null,
            "max_height": null,
            "max_width": null,
            "min_height": null,
            "min_width": null,
            "object_fit": null,
            "object_position": null,
            "order": null,
            "overflow": null,
            "overflow_x": null,
            "overflow_y": null,
            "padding": null,
            "right": null,
            "top": null,
            "visibility": null,
            "width": null
          }
        },
        "8c3586083c644ebbac3f0d6f6928c8e0": {
          "model_module": "@jupyter-widgets/controls",
          "model_name": "ProgressStyleModel",
          "model_module_version": "1.5.0",
          "state": {
            "_model_module": "@jupyter-widgets/controls",
            "_model_module_version": "1.5.0",
            "_model_name": "ProgressStyleModel",
            "_view_count": null,
            "_view_module": "@jupyter-widgets/base",
            "_view_module_version": "1.2.0",
            "_view_name": "StyleView",
            "bar_color": null,
            "description_width": ""
          }
        },
        "e862a9596a7d4090a237a6082ceae530": {
          "model_module": "@jupyter-widgets/base",
          "model_name": "LayoutModel",
          "model_module_version": "1.2.0",
          "state": {
            "_model_module": "@jupyter-widgets/base",
            "_model_module_version": "1.2.0",
            "_model_name": "LayoutModel",
            "_view_count": null,
            "_view_module": "@jupyter-widgets/base",
            "_view_module_version": "1.2.0",
            "_view_name": "LayoutView",
            "align_content": null,
            "align_items": null,
            "align_self": null,
            "border": null,
            "bottom": null,
            "display": null,
            "flex": null,
            "flex_flow": null,
            "grid_area": null,
            "grid_auto_columns": null,
            "grid_auto_flow": null,
            "grid_auto_rows": null,
            "grid_column": null,
            "grid_gap": null,
            "grid_row": null,
            "grid_template_areas": null,
            "grid_template_columns": null,
            "grid_template_rows": null,
            "height": null,
            "justify_content": null,
            "justify_items": null,
            "left": null,
            "margin": null,
            "max_height": null,
            "max_width": null,
            "min_height": null,
            "min_width": null,
            "object_fit": null,
            "object_position": null,
            "order": null,
            "overflow": null,
            "overflow_x": null,
            "overflow_y": null,
            "padding": null,
            "right": null,
            "top": null,
            "visibility": null,
            "width": null
          }
        },
        "103fd7c6d5774d08931922769979c3d8": {
          "model_module": "@jupyter-widgets/controls",
          "model_name": "DescriptionStyleModel",
          "model_module_version": "1.5.0",
          "state": {
            "_model_module": "@jupyter-widgets/controls",
            "_model_module_version": "1.5.0",
            "_model_name": "DescriptionStyleModel",
            "_view_count": null,
            "_view_module": "@jupyter-widgets/base",
            "_view_module_version": "1.2.0",
            "_view_name": "StyleView",
            "description_width": ""
          }
        },
        "78c142fb316b4a919a956abd99150eb1": {
          "model_module": "@jupyter-widgets/controls",
          "model_name": "HBoxModel",
          "model_module_version": "1.5.0",
          "state": {
            "_dom_classes": [],
            "_model_module": "@jupyter-widgets/controls",
            "_model_module_version": "1.5.0",
            "_model_name": "HBoxModel",
            "_view_count": null,
            "_view_module": "@jupyter-widgets/controls",
            "_view_module_version": "1.5.0",
            "_view_name": "HBoxView",
            "box_style": "",
            "children": [
              "IPY_MODEL_c3e4d2698db840efad9df0e898c096fd",
              "IPY_MODEL_591753bdc9de44b594ee23551bf92dda",
              "IPY_MODEL_676c8ad93266430cbad80358148ace00"
            ],
            "layout": "IPY_MODEL_860856e27c11484d991080394fa55296"
          }
        },
        "c3e4d2698db840efad9df0e898c096fd": {
          "model_module": "@jupyter-widgets/controls",
          "model_name": "HTMLModel",
          "model_module_version": "1.5.0",
          "state": {
            "_dom_classes": [],
            "_model_module": "@jupyter-widgets/controls",
            "_model_module_version": "1.5.0",
            "_model_name": "HTMLModel",
            "_view_count": null,
            "_view_module": "@jupyter-widgets/controls",
            "_view_module_version": "1.5.0",
            "_view_name": "HTMLView",
            "description": "",
            "description_tooltip": null,
            "layout": "IPY_MODEL_d6efed45a8b0482c98e95c8108afe402",
            "placeholder": "​",
            "style": "IPY_MODEL_41a1c70592834ac5a2d33a4ffede1e1a",
            "value": ""
          }
        },
        "591753bdc9de44b594ee23551bf92dda": {
          "model_module": "@jupyter-widgets/controls",
          "model_name": "FloatProgressModel",
          "model_module_version": "1.5.0",
          "state": {
            "_dom_classes": [],
            "_model_module": "@jupyter-widgets/controls",
            "_model_module_version": "1.5.0",
            "_model_name": "FloatProgressModel",
            "_view_count": null,
            "_view_module": "@jupyter-widgets/controls",
            "_view_module_version": "1.5.0",
            "_view_name": "ProgressView",
            "bar_style": "success",
            "description": "",
            "description_tooltip": null,
            "layout": "IPY_MODEL_3b3d78b97669490da3eb6f365085bef7",
            "max": 1648877,
            "min": 0,
            "orientation": "horizontal",
            "style": "IPY_MODEL_746627966caa4297aab87ec1f45793e5",
            "value": 1648877
          }
        },
        "676c8ad93266430cbad80358148ace00": {
          "model_module": "@jupyter-widgets/controls",
          "model_name": "HTMLModel",
          "model_module_version": "1.5.0",
          "state": {
            "_dom_classes": [],
            "_model_module": "@jupyter-widgets/controls",
            "_model_module_version": "1.5.0",
            "_model_name": "HTMLModel",
            "_view_count": null,
            "_view_module": "@jupyter-widgets/controls",
            "_view_module_version": "1.5.0",
            "_view_name": "HTMLView",
            "description": "",
            "description_tooltip": null,
            "layout": "IPY_MODEL_05b642b9f85849e58d41b7d0be1ce346",
            "placeholder": "​",
            "style": "IPY_MODEL_805f6b6edbfd457d86b037f85b3bfaf7",
            "value": " 1649664/? [00:00&lt;00:00, 25821543.03it/s]"
          }
        },
        "860856e27c11484d991080394fa55296": {
          "model_module": "@jupyter-widgets/base",
          "model_name": "LayoutModel",
          "model_module_version": "1.2.0",
          "state": {
            "_model_module": "@jupyter-widgets/base",
            "_model_module_version": "1.2.0",
            "_model_name": "LayoutModel",
            "_view_count": null,
            "_view_module": "@jupyter-widgets/base",
            "_view_module_version": "1.2.0",
            "_view_name": "LayoutView",
            "align_content": null,
            "align_items": null,
            "align_self": null,
            "border": null,
            "bottom": null,
            "display": null,
            "flex": null,
            "flex_flow": null,
            "grid_area": null,
            "grid_auto_columns": null,
            "grid_auto_flow": null,
            "grid_auto_rows": null,
            "grid_column": null,
            "grid_gap": null,
            "grid_row": null,
            "grid_template_areas": null,
            "grid_template_columns": null,
            "grid_template_rows": null,
            "height": null,
            "justify_content": null,
            "justify_items": null,
            "left": null,
            "margin": null,
            "max_height": null,
            "max_width": null,
            "min_height": null,
            "min_width": null,
            "object_fit": null,
            "object_position": null,
            "order": null,
            "overflow": null,
            "overflow_x": null,
            "overflow_y": null,
            "padding": null,
            "right": null,
            "top": null,
            "visibility": null,
            "width": null
          }
        },
        "d6efed45a8b0482c98e95c8108afe402": {
          "model_module": "@jupyter-widgets/base",
          "model_name": "LayoutModel",
          "model_module_version": "1.2.0",
          "state": {
            "_model_module": "@jupyter-widgets/base",
            "_model_module_version": "1.2.0",
            "_model_name": "LayoutModel",
            "_view_count": null,
            "_view_module": "@jupyter-widgets/base",
            "_view_module_version": "1.2.0",
            "_view_name": "LayoutView",
            "align_content": null,
            "align_items": null,
            "align_self": null,
            "border": null,
            "bottom": null,
            "display": null,
            "flex": null,
            "flex_flow": null,
            "grid_area": null,
            "grid_auto_columns": null,
            "grid_auto_flow": null,
            "grid_auto_rows": null,
            "grid_column": null,
            "grid_gap": null,
            "grid_row": null,
            "grid_template_areas": null,
            "grid_template_columns": null,
            "grid_template_rows": null,
            "height": null,
            "justify_content": null,
            "justify_items": null,
            "left": null,
            "margin": null,
            "max_height": null,
            "max_width": null,
            "min_height": null,
            "min_width": null,
            "object_fit": null,
            "object_position": null,
            "order": null,
            "overflow": null,
            "overflow_x": null,
            "overflow_y": null,
            "padding": null,
            "right": null,
            "top": null,
            "visibility": null,
            "width": null
          }
        },
        "41a1c70592834ac5a2d33a4ffede1e1a": {
          "model_module": "@jupyter-widgets/controls",
          "model_name": "DescriptionStyleModel",
          "model_module_version": "1.5.0",
          "state": {
            "_model_module": "@jupyter-widgets/controls",
            "_model_module_version": "1.5.0",
            "_model_name": "DescriptionStyleModel",
            "_view_count": null,
            "_view_module": "@jupyter-widgets/base",
            "_view_module_version": "1.2.0",
            "_view_name": "StyleView",
            "description_width": ""
          }
        },
        "3b3d78b97669490da3eb6f365085bef7": {
          "model_module": "@jupyter-widgets/base",
          "model_name": "LayoutModel",
          "model_module_version": "1.2.0",
          "state": {
            "_model_module": "@jupyter-widgets/base",
            "_model_module_version": "1.2.0",
            "_model_name": "LayoutModel",
            "_view_count": null,
            "_view_module": "@jupyter-widgets/base",
            "_view_module_version": "1.2.0",
            "_view_name": "LayoutView",
            "align_content": null,
            "align_items": null,
            "align_self": null,
            "border": null,
            "bottom": null,
            "display": null,
            "flex": null,
            "flex_flow": null,
            "grid_area": null,
            "grid_auto_columns": null,
            "grid_auto_flow": null,
            "grid_auto_rows": null,
            "grid_column": null,
            "grid_gap": null,
            "grid_row": null,
            "grid_template_areas": null,
            "grid_template_columns": null,
            "grid_template_rows": null,
            "height": null,
            "justify_content": null,
            "justify_items": null,
            "left": null,
            "margin": null,
            "max_height": null,
            "max_width": null,
            "min_height": null,
            "min_width": null,
            "object_fit": null,
            "object_position": null,
            "order": null,
            "overflow": null,
            "overflow_x": null,
            "overflow_y": null,
            "padding": null,
            "right": null,
            "top": null,
            "visibility": null,
            "width": null
          }
        },
        "746627966caa4297aab87ec1f45793e5": {
          "model_module": "@jupyter-widgets/controls",
          "model_name": "ProgressStyleModel",
          "model_module_version": "1.5.0",
          "state": {
            "_model_module": "@jupyter-widgets/controls",
            "_model_module_version": "1.5.0",
            "_model_name": "ProgressStyleModel",
            "_view_count": null,
            "_view_module": "@jupyter-widgets/base",
            "_view_module_version": "1.2.0",
            "_view_name": "StyleView",
            "bar_color": null,
            "description_width": ""
          }
        },
        "05b642b9f85849e58d41b7d0be1ce346": {
          "model_module": "@jupyter-widgets/base",
          "model_name": "LayoutModel",
          "model_module_version": "1.2.0",
          "state": {
            "_model_module": "@jupyter-widgets/base",
            "_model_module_version": "1.2.0",
            "_model_name": "LayoutModel",
            "_view_count": null,
            "_view_module": "@jupyter-widgets/base",
            "_view_module_version": "1.2.0",
            "_view_name": "LayoutView",
            "align_content": null,
            "align_items": null,
            "align_self": null,
            "border": null,
            "bottom": null,
            "display": null,
            "flex": null,
            "flex_flow": null,
            "grid_area": null,
            "grid_auto_columns": null,
            "grid_auto_flow": null,
            "grid_auto_rows": null,
            "grid_column": null,
            "grid_gap": null,
            "grid_row": null,
            "grid_template_areas": null,
            "grid_template_columns": null,
            "grid_template_rows": null,
            "height": null,
            "justify_content": null,
            "justify_items": null,
            "left": null,
            "margin": null,
            "max_height": null,
            "max_width": null,
            "min_height": null,
            "min_width": null,
            "object_fit": null,
            "object_position": null,
            "order": null,
            "overflow": null,
            "overflow_x": null,
            "overflow_y": null,
            "padding": null,
            "right": null,
            "top": null,
            "visibility": null,
            "width": null
          }
        },
        "805f6b6edbfd457d86b037f85b3bfaf7": {
          "model_module": "@jupyter-widgets/controls",
          "model_name": "DescriptionStyleModel",
          "model_module_version": "1.5.0",
          "state": {
            "_model_module": "@jupyter-widgets/controls",
            "_model_module_version": "1.5.0",
            "_model_name": "DescriptionStyleModel",
            "_view_count": null,
            "_view_module": "@jupyter-widgets/base",
            "_view_module_version": "1.2.0",
            "_view_name": "StyleView",
            "description_width": ""
          }
        },
        "773ce305164547378703d2b9a5aa9d9f": {
          "model_module": "@jupyter-widgets/controls",
          "model_name": "HBoxModel",
          "model_module_version": "1.5.0",
          "state": {
            "_dom_classes": [],
            "_model_module": "@jupyter-widgets/controls",
            "_model_module_version": "1.5.0",
            "_model_name": "HBoxModel",
            "_view_count": null,
            "_view_module": "@jupyter-widgets/controls",
            "_view_module_version": "1.5.0",
            "_view_name": "HBoxView",
            "box_style": "",
            "children": [
              "IPY_MODEL_dd10e2d1a12d43268f49781b31724a32",
              "IPY_MODEL_783c833a063845f0a3af7c92fa69524d",
              "IPY_MODEL_9b61130f84eb4613b4c7c8433bd9da28"
            ],
            "layout": "IPY_MODEL_36e886d7884f4e35a7df867488722f4b"
          }
        },
        "dd10e2d1a12d43268f49781b31724a32": {
          "model_module": "@jupyter-widgets/controls",
          "model_name": "HTMLModel",
          "model_module_version": "1.5.0",
          "state": {
            "_dom_classes": [],
            "_model_module": "@jupyter-widgets/controls",
            "_model_module_version": "1.5.0",
            "_model_name": "HTMLModel",
            "_view_count": null,
            "_view_module": "@jupyter-widgets/controls",
            "_view_module_version": "1.5.0",
            "_view_name": "HTMLView",
            "description": "",
            "description_tooltip": null,
            "layout": "IPY_MODEL_9a25b7e25bd145aa9e8bd27683ab35f7",
            "placeholder": "​",
            "style": "IPY_MODEL_b306f2a88b0941c3bcac0129bbebaafd",
            "value": ""
          }
        },
        "783c833a063845f0a3af7c92fa69524d": {
          "model_module": "@jupyter-widgets/controls",
          "model_name": "FloatProgressModel",
          "model_module_version": "1.5.0",
          "state": {
            "_dom_classes": [],
            "_model_module": "@jupyter-widgets/controls",
            "_model_module_version": "1.5.0",
            "_model_name": "FloatProgressModel",
            "_view_count": null,
            "_view_module": "@jupyter-widgets/controls",
            "_view_module_version": "1.5.0",
            "_view_name": "ProgressView",
            "bar_style": "success",
            "description": "",
            "description_tooltip": null,
            "layout": "IPY_MODEL_f1e26e6f91b043b8a0e7636f1b8ac5ef",
            "max": 4542,
            "min": 0,
            "orientation": "horizontal",
            "style": "IPY_MODEL_26f6fff2592945838a5e2ca93fef84de",
            "value": 4542
          }
        },
        "9b61130f84eb4613b4c7c8433bd9da28": {
          "model_module": "@jupyter-widgets/controls",
          "model_name": "HTMLModel",
          "model_module_version": "1.5.0",
          "state": {
            "_dom_classes": [],
            "_model_module": "@jupyter-widgets/controls",
            "_model_module_version": "1.5.0",
            "_model_name": "HTMLModel",
            "_view_count": null,
            "_view_module": "@jupyter-widgets/controls",
            "_view_module_version": "1.5.0",
            "_view_name": "HTMLView",
            "description": "",
            "description_tooltip": null,
            "layout": "IPY_MODEL_08cecbe9d75f438c8adbfca2fe03b9bc",
            "placeholder": "​",
            "style": "IPY_MODEL_347465ae65e74714945237cd5580f0b7",
            "value": " 5120/? [00:00&lt;00:00, 116384.05it/s]"
          }
        },
        "36e886d7884f4e35a7df867488722f4b": {
          "model_module": "@jupyter-widgets/base",
          "model_name": "LayoutModel",
          "model_module_version": "1.2.0",
          "state": {
            "_model_module": "@jupyter-widgets/base",
            "_model_module_version": "1.2.0",
            "_model_name": "LayoutModel",
            "_view_count": null,
            "_view_module": "@jupyter-widgets/base",
            "_view_module_version": "1.2.0",
            "_view_name": "LayoutView",
            "align_content": null,
            "align_items": null,
            "align_self": null,
            "border": null,
            "bottom": null,
            "display": null,
            "flex": null,
            "flex_flow": null,
            "grid_area": null,
            "grid_auto_columns": null,
            "grid_auto_flow": null,
            "grid_auto_rows": null,
            "grid_column": null,
            "grid_gap": null,
            "grid_row": null,
            "grid_template_areas": null,
            "grid_template_columns": null,
            "grid_template_rows": null,
            "height": null,
            "justify_content": null,
            "justify_items": null,
            "left": null,
            "margin": null,
            "max_height": null,
            "max_width": null,
            "min_height": null,
            "min_width": null,
            "object_fit": null,
            "object_position": null,
            "order": null,
            "overflow": null,
            "overflow_x": null,
            "overflow_y": null,
            "padding": null,
            "right": null,
            "top": null,
            "visibility": null,
            "width": null
          }
        },
        "9a25b7e25bd145aa9e8bd27683ab35f7": {
          "model_module": "@jupyter-widgets/base",
          "model_name": "LayoutModel",
          "model_module_version": "1.2.0",
          "state": {
            "_model_module": "@jupyter-widgets/base",
            "_model_module_version": "1.2.0",
            "_model_name": "LayoutModel",
            "_view_count": null,
            "_view_module": "@jupyter-widgets/base",
            "_view_module_version": "1.2.0",
            "_view_name": "LayoutView",
            "align_content": null,
            "align_items": null,
            "align_self": null,
            "border": null,
            "bottom": null,
            "display": null,
            "flex": null,
            "flex_flow": null,
            "grid_area": null,
            "grid_auto_columns": null,
            "grid_auto_flow": null,
            "grid_auto_rows": null,
            "grid_column": null,
            "grid_gap": null,
            "grid_row": null,
            "grid_template_areas": null,
            "grid_template_columns": null,
            "grid_template_rows": null,
            "height": null,
            "justify_content": null,
            "justify_items": null,
            "left": null,
            "margin": null,
            "max_height": null,
            "max_width": null,
            "min_height": null,
            "min_width": null,
            "object_fit": null,
            "object_position": null,
            "order": null,
            "overflow": null,
            "overflow_x": null,
            "overflow_y": null,
            "padding": null,
            "right": null,
            "top": null,
            "visibility": null,
            "width": null
          }
        },
        "b306f2a88b0941c3bcac0129bbebaafd": {
          "model_module": "@jupyter-widgets/controls",
          "model_name": "DescriptionStyleModel",
          "model_module_version": "1.5.0",
          "state": {
            "_model_module": "@jupyter-widgets/controls",
            "_model_module_version": "1.5.0",
            "_model_name": "DescriptionStyleModel",
            "_view_count": null,
            "_view_module": "@jupyter-widgets/base",
            "_view_module_version": "1.2.0",
            "_view_name": "StyleView",
            "description_width": ""
          }
        },
        "f1e26e6f91b043b8a0e7636f1b8ac5ef": {
          "model_module": "@jupyter-widgets/base",
          "model_name": "LayoutModel",
          "model_module_version": "1.2.0",
          "state": {
            "_model_module": "@jupyter-widgets/base",
            "_model_module_version": "1.2.0",
            "_model_name": "LayoutModel",
            "_view_count": null,
            "_view_module": "@jupyter-widgets/base",
            "_view_module_version": "1.2.0",
            "_view_name": "LayoutView",
            "align_content": null,
            "align_items": null,
            "align_self": null,
            "border": null,
            "bottom": null,
            "display": null,
            "flex": null,
            "flex_flow": null,
            "grid_area": null,
            "grid_auto_columns": null,
            "grid_auto_flow": null,
            "grid_auto_rows": null,
            "grid_column": null,
            "grid_gap": null,
            "grid_row": null,
            "grid_template_areas": null,
            "grid_template_columns": null,
            "grid_template_rows": null,
            "height": null,
            "justify_content": null,
            "justify_items": null,
            "left": null,
            "margin": null,
            "max_height": null,
            "max_width": null,
            "min_height": null,
            "min_width": null,
            "object_fit": null,
            "object_position": null,
            "order": null,
            "overflow": null,
            "overflow_x": null,
            "overflow_y": null,
            "padding": null,
            "right": null,
            "top": null,
            "visibility": null,
            "width": null
          }
        },
        "26f6fff2592945838a5e2ca93fef84de": {
          "model_module": "@jupyter-widgets/controls",
          "model_name": "ProgressStyleModel",
          "model_module_version": "1.5.0",
          "state": {
            "_model_module": "@jupyter-widgets/controls",
            "_model_module_version": "1.5.0",
            "_model_name": "ProgressStyleModel",
            "_view_count": null,
            "_view_module": "@jupyter-widgets/base",
            "_view_module_version": "1.2.0",
            "_view_name": "StyleView",
            "bar_color": null,
            "description_width": ""
          }
        },
        "08cecbe9d75f438c8adbfca2fe03b9bc": {
          "model_module": "@jupyter-widgets/base",
          "model_name": "LayoutModel",
          "model_module_version": "1.2.0",
          "state": {
            "_model_module": "@jupyter-widgets/base",
            "_model_module_version": "1.2.0",
            "_model_name": "LayoutModel",
            "_view_count": null,
            "_view_module": "@jupyter-widgets/base",
            "_view_module_version": "1.2.0",
            "_view_name": "LayoutView",
            "align_content": null,
            "align_items": null,
            "align_self": null,
            "border": null,
            "bottom": null,
            "display": null,
            "flex": null,
            "flex_flow": null,
            "grid_area": null,
            "grid_auto_columns": null,
            "grid_auto_flow": null,
            "grid_auto_rows": null,
            "grid_column": null,
            "grid_gap": null,
            "grid_row": null,
            "grid_template_areas": null,
            "grid_template_columns": null,
            "grid_template_rows": null,
            "height": null,
            "justify_content": null,
            "justify_items": null,
            "left": null,
            "margin": null,
            "max_height": null,
            "max_width": null,
            "min_height": null,
            "min_width": null,
            "object_fit": null,
            "object_position": null,
            "order": null,
            "overflow": null,
            "overflow_x": null,
            "overflow_y": null,
            "padding": null,
            "right": null,
            "top": null,
            "visibility": null,
            "width": null
          }
        },
        "347465ae65e74714945237cd5580f0b7": {
          "model_module": "@jupyter-widgets/controls",
          "model_name": "DescriptionStyleModel",
          "model_module_version": "1.5.0",
          "state": {
            "_model_module": "@jupyter-widgets/controls",
            "_model_module_version": "1.5.0",
            "_model_name": "DescriptionStyleModel",
            "_view_count": null,
            "_view_module": "@jupyter-widgets/base",
            "_view_module_version": "1.2.0",
            "_view_name": "StyleView",
            "description_width": ""
          }
        }
      }
    }
  },
  "cells": [
    {
      "cell_type": "markdown",
      "metadata": {
        "id": "view-in-github",
        "colab_type": "text"
      },
      "source": [
        "<a href=\"https://colab.research.google.com/github/mk3658/Federated_Learning/blob/main/Federated_Learning.ipynb\" target=\"_parent\"><img src=\"https://colab.research.google.com/assets/colab-badge.svg\" alt=\"Open In Colab\"/></a>"
      ]
    },
    {
      "cell_type": "markdown",
      "source": [
        "# Introduction"
      ],
      "metadata": {
        "id": "SReEjZ6S7X0l"
      }
    },
    {
      "cell_type": "markdown",
      "source": [
        "Federated learning (FL) is a machine learning setting where many clients (e.g. mobile devices or whole organizations) collaboratively train a model under the orchestration of a central server (e.g. service provider), while keeping the training data decentralized. There are many works adopted FL and led to emergence of sub-groups within federated learning, e.g., horizontal federated learning and vertical federated learning.\n",
        "\n",
        "However, a constraint imposed by the traditional federated learning is that training data owned by different organizations need to share same feature space. In practice, this is never the case in industries like finance or healthcare.\n",
        "\n",
        "In this notebook, we are going to first apply Federated Learning in the recognization of handwritting digits (MNIST), and compare with the second approach which is using Federated Transfer Learning (FTL) to the same problem."
      ],
      "metadata": {
        "id": "dv8ZsmP37lME"
      }
    },
    {
      "cell_type": "markdown",
      "source": [
        "# Federated Learning with PyTorch"
      ],
      "metadata": {
        "id": "pJ2FavV2w9tI"
      }
    },
    {
      "cell_type": "markdown",
      "source": [
        "## Essential Library/Packages\n",
        "\n",
        "Since FL was first proposed by Google in 2016, there have been numerous of papers investigating and implementing their own solution with FL framework. In details, we apply FedAvg and MNIST IID for this example. In this section, based on [Communication-Efficient Learning of Deep Networks from Decentralized Data](https://arxiv.org/pdf/1602.05629.pdf) paper, we implement a basic demonstration which utilizes CNN model and MNIST dataset supported by PyTorch library. Let's start to import essential packages for later implementation."
      ],
      "metadata": {
        "id": "VFtgynIV_yNB"
      }
    },
    {
      "cell_type": "code",
      "execution_count": null,
      "metadata": {
        "id": "JKcO7C2kwIxO"
      },
      "outputs": [],
      "source": [
        "import matplotlib                                     # A plotting library\n",
        "matplotlib.use('Agg')                                 # The default backend is the agg backend. This backend only renders PNGs\n",
        "import matplotlib.pyplot as plt                       # A collection of functions in the popular visualization package Matplotlib\n",
        "import torch                                          # A package that provides two high-level features (Tensor computation, Deep neural networks built-in system)\n",
        "import copy                                           # A library supporting deep copy\n",
        "from torch import nn, autograd                        # Autograd is reverse automatic differentiation system, nn is neural network library\n",
        "import torch.nn.functional as F                       # A library providing conventional functions, pooling functions, non-linear activation functions, etc.\n",
        "from torch.utils.data import DataLoader, Dataset      # Dataset stores the samples and their corresponding labels. DataLoader wraps an iterable around the Dataset to enable easy access to the samples\n",
        "import numpy as np                                    # A Python library used for working with arrays\n",
        "import random                                         # A library implements pseudo-random number generators for various distributions\n",
        "from sklearn import metrics                           # A module implements functions assessing prediction error for specific purposes\n",
        "from torchvision import datasets, transforms          # A library for Computer Vision that goes hand in hand with PyTorch"
      ]
    },
    {
      "cell_type": "markdown",
      "source": [
        "## Customized CNN model\n",
        "\n",
        "To customize a conventional neural network model for MNIST dataset, we define a model including 2 customized conventional layers and 2 custmozed fully connected layers. Besides, a forward progation function is also define as"
      ],
      "metadata": {
        "id": "RToz9qGR9Twt"
      }
    },
    {
      "cell_type": "code",
      "source": [
        "class CNNMnist(nn.Module):\n",
        "    def __init__(self, args):\n",
        "        super(CNNMnist, self).__init__()\n",
        "        self.conv1 = nn.Conv2d(args[\"num_channels\"], 10, kernel_size=5)\n",
        "        self.conv2 = nn.Conv2d(10, 20, kernel_size=5)\n",
        "        self.conv2_drop = nn.Dropout2d()\n",
        "        self.fc1 = nn.Linear(320, 50)\n",
        "        self.fc2 = nn.Linear(50, args[\"num_classes\"])\n",
        "\n",
        "    def forward(self, x):\n",
        "        x = F.relu(F.max_pool2d(self.conv1(x), 2))\n",
        "        x = F.relu(F.max_pool2d(self.conv2_drop(self.conv2(x)), 2))\n",
        "        x = x.view(-1, x.shape[1]*x.shape[2]*x.shape[3])\n",
        "        x = F.relu(self.fc1(x))\n",
        "        x = F.dropout(x, training=self.training)\n",
        "        x = self.fc2(x)\n",
        "        return x"
      ],
      "metadata": {
        "id": "HzDYLcDmyhPg"
      },
      "execution_count": null,
      "outputs": []
    },
    {
      "cell_type": "markdown",
      "source": [
        "## Dataset Splitting\n",
        "\n",
        "Dataset is an abstract class representing a dataset. Your custom dataset should inherit Dataset and override the following methods:\n",
        "\n",
        "\n",
        "*   __ __len__ __ so that len(dataset) returns the size of the dataset.\n",
        "*   __ __getitem__ __ to support the indexing such that dataset[i] can be used to get iith sample.\n",
        "\n",
        "\n"
      ],
      "metadata": {
        "id": "97oI0OiALSE6"
      }
    },
    {
      "cell_type": "code",
      "source": [
        "class DatasetSplit(Dataset):\n",
        "    def __init__(self, dataset, idxs):\n",
        "        'Initialization'\n",
        "        self.dataset = dataset\n",
        "        self.idxs = list(idxs)\n",
        "\n",
        "    def __len__(self):\n",
        "        'Denotes the total number of samples'\n",
        "        return len(self.idxs)\n",
        "\n",
        "    def __getitem__(self, item):\n",
        "        'Generates one sample of data'\n",
        "        image, label = self.dataset[self.idxs[item]]\n",
        "        return image, label"
      ],
      "metadata": {
        "id": "XaUY_2iuyCZg"
      },
      "execution_count": null,
      "outputs": []
    },
    {
      "cell_type": "markdown",
      "source": [
        "## Local Training\n",
        "\n",
        "Next, we define a class to perform local training and update model, which is one of critical parts of Federated Learning."
      ],
      "metadata": {
        "id": "F3WyfvrjHsOx"
      }
    },
    {
      "cell_type": "code",
      "source": [
        "class LocalUpdate(object):\n",
        "    def __init__(self, args, dataset=None, idxs=None):\n",
        "        \"\"\"\n",
        "          A class supporting local devices' training and Update \n",
        "          :param args: A list of arguments\n",
        "          :param dataset: A global dataset\n",
        "          :param idxs: Local users' index\n",
        "        \"\"\"\n",
        "        self.args = args \n",
        "        # Using Cross Entropy Loss function from nn package\n",
        "        self.loss_func = nn.CrossEntropyLoss() \n",
        "        self.selected_clients = []\n",
        "        self.ldr_train = DataLoader(DatasetSplit(dataset, idxs), batch_size=self.args[\"local_bs\"], shuffle=True)\n",
        "\n",
        "    def train(self, net):\n",
        "        \"\"\"\n",
        "          Training the model\n",
        "          :param args: A list of arguments\n",
        "          :return: state dict of model and local loss\n",
        "        \"\"\"\n",
        "        net.train()\n",
        "        # train and update: Implements stochastic gradient descent (optionally with momentum).\n",
        "        optimizer = torch.optim.SGD(net.parameters(), lr=self.args[\"lr\"], momentum=self.args[\"momentum\"])\n",
        "\n",
        "        epoch_loss = []\n",
        "        for iter in range(self.args[\"local_ep\"]):\n",
        "            batch_loss = []\n",
        "            for batch_idx, (images, labels) in enumerate(self.ldr_train):\n",
        "                images, labels = images.to(self.args[\"device\"]), labels.to(self.args[\"device\"])\n",
        "                net.zero_grad()\n",
        "                log_probs = net(images)\n",
        "                loss = self.loss_func(log_probs, labels)\n",
        "                # Backward Propagation\n",
        "                loss.backward()\n",
        "                # Performs a single optimization step (parameter update)\n",
        "                optimizer.step()\n",
        "                if self.args[\"verbose\"] and batch_idx % 10 == 0:\n",
        "                    print('Update Epoch: {} [{}/{} ({:.0f}%)]\\tLoss: {:.6f}'.format(\n",
        "                        iter, batch_idx * len(images), len(self.ldr_train.dataset),\n",
        "                               100. * batch_idx / len(self.ldr_train), loss.item()))\n",
        "                batch_loss.append(loss.item())\n",
        "            epoch_loss.append(sum(batch_loss)/len(batch_loss))\n",
        "        return net.state_dict(), sum(epoch_loss) / len(epoch_loss)"
      ],
      "metadata": {
        "id": "DjwTsD2-yMtw"
      },
      "execution_count": null,
      "outputs": []
    },
    {
      "cell_type": "markdown",
      "source": [
        "## Federated Averaging Algorithm\n",
        "\n",
        "\n",
        "Here, to update global weighted parameters, we use Federated averaging (FedAvg). This is a generalization of FedSGD, which allows local nodes to perform more than one batch update on local data and exchanges the updated weights rather than the gradients. "
      ],
      "metadata": {
        "id": "1pjI9Y305NGb"
      }
    },
    {
      "cell_type": "code",
      "source": [
        "def FedAvg(w):\n",
        "    w_avg = copy.deepcopy(w[0])\n",
        "    for k in w_avg.keys():\n",
        "        for i in range(1, len(w)):\n",
        "            w_avg[k] += w[i][k]\n",
        "        w_avg[k] = torch.div(w_avg[k], len(w))\n",
        "    return w_avg"
      ],
      "metadata": {
        "id": "FM30wHbQzDDk"
      },
      "execution_count": null,
      "outputs": []
    },
    {
      "cell_type": "markdown",
      "source": [
        "## How to distribute global model to local devices\n",
        "\n",
        "To distribute the model to local users' devices, there are two approaches: IID and Non-IID."
      ],
      "metadata": {
        "id": "5PvmP-o9ExkY"
      }
    },
    {
      "cell_type": "code",
      "source": [
        "def mnist_iid(dataset, num_users):\n",
        "    \"\"\"\n",
        "    Sample I.I.D. client data from MNIST dataset\n",
        "    :param dataset:\n",
        "    :param num_users:\n",
        "    :return: dict of image index\n",
        "    \"\"\"\n",
        "    num_items = int(len(dataset)/num_users)\n",
        "    dict_users, all_idxs = {}, [i for i in range(len(dataset))]\n",
        "    for i in range(num_users):\n",
        "        dict_users[i] = set(np.random.choice(all_idxs, num_items, replace=False))\n",
        "        all_idxs = list(set(all_idxs) - dict_users[i])\n",
        "    return dict_users"
      ],
      "metadata": {
        "id": "F8xVJKZw0YVk"
      },
      "execution_count": null,
      "outputs": []
    },
    {
      "cell_type": "code",
      "source": [
        "def mnist_noniid(dataset, num_users):\n",
        "    \"\"\"\n",
        "    Sample non-I.I.D client data from MNIST dataset\n",
        "    :param dataset:\n",
        "    :param num_users:\n",
        "    :return:\n",
        "    \"\"\"\n",
        "    num_shards, num_imgs = 200, 300\n",
        "    idx_shard = [i for i in range(num_shards)]\n",
        "    dict_users = {i: np.array([], dtype='int64') for i in range(num_users)}\n",
        "    idxs = np.arange(num_shards*num_imgs)\n",
        "    labels = dataset.train_labels.numpy()\n",
        "\n",
        "    # sort labels\n",
        "    idxs_labels = np.vstack((idxs, labels))\n",
        "    idxs_labels = idxs_labels[:,idxs_labels[1,:].argsort()]\n",
        "    idxs = idxs_labels[0,:]\n",
        "\n",
        "    # divide and assign\n",
        "    for i in range(num_users):\n",
        "        rand_set = set(np.random.choice(idx_shard, 2, replace=False))\n",
        "        idx_shard = list(set(idx_shard) - rand_set)\n",
        "        for rand in rand_set:\n",
        "            dict_users[i] = np.concatenate((dict_users[i], idxs[rand*num_imgs:(rand+1)*num_imgs]), axis=0)\n",
        "    return dict_users"
      ],
      "metadata": {
        "id": "au9EpMIxIIGu"
      },
      "execution_count": null,
      "outputs": []
    },
    {
      "cell_type": "markdown",
      "source": [
        "## Models and parameters initialization\n",
        "\n",
        "Now, it's time to get initialize basic arguments supporting our training and testing, as well as download the MNIST dataset, which is supported in PyTorch library. \n",
        "\n"
      ],
      "metadata": {
        "id": "vI0uUGMoNB79"
      }
    },
    {
      "cell_type": "code",
      "source": [
        "args = {\n",
        "    \"epochs\": 10,              # Global epoch indicates the number of passes of the entire training dataset the machine learning algorithm has completed\n",
        "    \"gpu\": 0,                  # GPU is a specialized processing unit with enhanced mathematical computation capability. 0 for not using GPU, 1 for using GPU\n",
        "    \"frac\": 0.1,               # The fraction of clients\n",
        "    \"num_users\": 100,          # The number of users\n",
        "    \"num_channels\": 1,         # The number of channels of images\n",
        "    \"num_classes\": 10,         # The number of classes\n",
        "    \"local_bs\": 10,            # The local batch size\n",
        "    \"lr\": 0.01,                # The learning rate\n",
        "    \"verbose\": False,          # The verbose print\n",
        "    \"bs\": 128,                 # The test batch size\n",
        "    \"momentum\": 0.5,           # The Stochastic Gradient Descent momentum\n",
        "    \"local_ep\": 5,             # The number of local epochs\n",
        "    \"all_clients\": True,      # If we do an aggregation over all clients\n",
        "    \"val_split\": 0.3,          # Validation split for test\n",
        "    \"lr_patience\": 99999,      # Learning patience before reduced when loss does not go down in each client\n",
        "    \"lambda_coral\": 0.01,      # Trade off parameter in CORAL loss'\n",
        "    \"weight_decay\": 0.01       # Weight decay for SGD\n",
        "}\n",
        "\n",
        "# Check whether the current OS supports GPU or not\n",
        "args[\"device\"] = torch.device('cuda:{}'.format(args[\"gpu\"]) if torch.cuda.is_available() and args[\"gpu\"] != -1 else 'cpu')\n",
        "\n",
        "# Download train and test dataset\n",
        "trans_mnist = transforms.Compose([transforms.ToTensor(), transforms.Normalize((0.1307,), (0.3081,))])\n",
        "dataset_train = datasets.MNIST('../data/mnist/', train=True, download=True, transform=trans_mnist)\n",
        "dataset_test = datasets.MNIST('../data/mnist/', train=False, download=True, transform=trans_mnist)\n",
        "\n",
        "# Define a dict of users\n",
        "dict_users = mnist_iid(dataset_train, args[\"num_users\"])\n",
        "\n",
        "# The size of image\n",
        "img_size = dataset_train[0][0].shape\n",
        "\n",
        "# Initialize a CNN model that supports to train MNIST dataset\n",
        "net_glob = CNNMnist(args=args).to(args[\"device\"])\n",
        "\n",
        "# Print to check the model\n",
        "print(net_glob)\n",
        "\n",
        "# Start to train\n",
        "net_glob.train()\n",
        "\n",
        "# copy weights\n",
        "w_glob = net_glob.state_dict()"
      ],
      "metadata": {
        "colab": {
          "base_uri": "https://localhost:8080/",
          "height": 556,
          "referenced_widgets": [
            "40f411185e9742c09b345d647eb4cb61",
            "0d7388a3e9a942479550fc278f441ec8",
            "0df02189ba604e4e8b5c8865f4d2a2d8",
            "1306e286c0294ad69100acc32c56c907",
            "c65d7c6c654d4cf2b5a9a7e7b875a483",
            "4b234e446bb74fc39f6e1644123a4c20",
            "94f664ea8c444a0e9e31a24bfdc26790",
            "8551e6700b194492b895556694ad7bd5",
            "01e7904dbae4447e8696d4c95fb1c123",
            "c8298902e93845acb1a8ef87f406244e",
            "b91d6b338f4e4568885ca312aa5e29da",
            "5ae99929dc3046c4a6cb3eb94796aad4",
            "250400e5952341339e682d3f65d146d0",
            "5ba57693849b455aa582152eee444fdd",
            "bdeff3e940f8487fb9c4fb7a17f65926",
            "1ff36fcf4a9547348f079d620d343d94",
            "59ae14d8de3e4b13963e5103ade1638e",
            "34e5517368ba48f4a93a5bef24ef34db",
            "725bb1d822024fcd970b31273c358d46",
            "8c3586083c644ebbac3f0d6f6928c8e0",
            "e862a9596a7d4090a237a6082ceae530",
            "103fd7c6d5774d08931922769979c3d8",
            "78c142fb316b4a919a956abd99150eb1",
            "c3e4d2698db840efad9df0e898c096fd",
            "591753bdc9de44b594ee23551bf92dda",
            "676c8ad93266430cbad80358148ace00",
            "860856e27c11484d991080394fa55296",
            "d6efed45a8b0482c98e95c8108afe402",
            "41a1c70592834ac5a2d33a4ffede1e1a",
            "3b3d78b97669490da3eb6f365085bef7",
            "746627966caa4297aab87ec1f45793e5",
            "05b642b9f85849e58d41b7d0be1ce346",
            "805f6b6edbfd457d86b037f85b3bfaf7",
            "773ce305164547378703d2b9a5aa9d9f",
            "dd10e2d1a12d43268f49781b31724a32",
            "783c833a063845f0a3af7c92fa69524d",
            "9b61130f84eb4613b4c7c8433bd9da28",
            "36e886d7884f4e35a7df867488722f4b",
            "9a25b7e25bd145aa9e8bd27683ab35f7",
            "b306f2a88b0941c3bcac0129bbebaafd",
            "f1e26e6f91b043b8a0e7636f1b8ac5ef",
            "26f6fff2592945838a5e2ca93fef84de",
            "08cecbe9d75f438c8adbfca2fe03b9bc",
            "347465ae65e74714945237cd5580f0b7"
          ]
        },
        "id": "_yjDttOJzmuO",
        "outputId": "b5706c2a-80e7-47a8-f592-fe3b128cd111"
      },
      "execution_count": null,
      "outputs": [
        {
          "output_type": "stream",
          "name": "stdout",
          "text": [
            "Downloading http://yann.lecun.com/exdb/mnist/train-images-idx3-ubyte.gz\n",
            "Downloading http://yann.lecun.com/exdb/mnist/train-images-idx3-ubyte.gz to ../data/mnist/MNIST/raw/train-images-idx3-ubyte.gz\n"
          ]
        },
        {
          "output_type": "display_data",
          "data": {
            "text/plain": [
              "  0%|          | 0/9912422 [00:00<?, ?it/s]"
            ],
            "application/vnd.jupyter.widget-view+json": {
              "version_major": 2,
              "version_minor": 0,
              "model_id": "40f411185e9742c09b345d647eb4cb61"
            }
          },
          "metadata": {}
        },
        {
          "output_type": "stream",
          "name": "stdout",
          "text": [
            "Extracting ../data/mnist/MNIST/raw/train-images-idx3-ubyte.gz to ../data/mnist/MNIST/raw\n",
            "\n",
            "Downloading http://yann.lecun.com/exdb/mnist/train-labels-idx1-ubyte.gz\n",
            "Downloading http://yann.lecun.com/exdb/mnist/train-labels-idx1-ubyte.gz to ../data/mnist/MNIST/raw/train-labels-idx1-ubyte.gz\n"
          ]
        },
        {
          "output_type": "display_data",
          "data": {
            "text/plain": [
              "  0%|          | 0/28881 [00:00<?, ?it/s]"
            ],
            "application/vnd.jupyter.widget-view+json": {
              "version_major": 2,
              "version_minor": 0,
              "model_id": "5ae99929dc3046c4a6cb3eb94796aad4"
            }
          },
          "metadata": {}
        },
        {
          "output_type": "stream",
          "name": "stdout",
          "text": [
            "Extracting ../data/mnist/MNIST/raw/train-labels-idx1-ubyte.gz to ../data/mnist/MNIST/raw\n",
            "\n",
            "Downloading http://yann.lecun.com/exdb/mnist/t10k-images-idx3-ubyte.gz\n",
            "Downloading http://yann.lecun.com/exdb/mnist/t10k-images-idx3-ubyte.gz to ../data/mnist/MNIST/raw/t10k-images-idx3-ubyte.gz\n"
          ]
        },
        {
          "output_type": "display_data",
          "data": {
            "text/plain": [
              "  0%|          | 0/1648877 [00:00<?, ?it/s]"
            ],
            "application/vnd.jupyter.widget-view+json": {
              "version_major": 2,
              "version_minor": 0,
              "model_id": "78c142fb316b4a919a956abd99150eb1"
            }
          },
          "metadata": {}
        },
        {
          "output_type": "stream",
          "name": "stdout",
          "text": [
            "Extracting ../data/mnist/MNIST/raw/t10k-images-idx3-ubyte.gz to ../data/mnist/MNIST/raw\n",
            "\n",
            "Downloading http://yann.lecun.com/exdb/mnist/t10k-labels-idx1-ubyte.gz\n",
            "Downloading http://yann.lecun.com/exdb/mnist/t10k-labels-idx1-ubyte.gz to ../data/mnist/MNIST/raw/t10k-labels-idx1-ubyte.gz\n"
          ]
        },
        {
          "output_type": "display_data",
          "data": {
            "text/plain": [
              "  0%|          | 0/4542 [00:00<?, ?it/s]"
            ],
            "application/vnd.jupyter.widget-view+json": {
              "version_major": 2,
              "version_minor": 0,
              "model_id": "773ce305164547378703d2b9a5aa9d9f"
            }
          },
          "metadata": {}
        },
        {
          "output_type": "stream",
          "name": "stdout",
          "text": [
            "Extracting ../data/mnist/MNIST/raw/t10k-labels-idx1-ubyte.gz to ../data/mnist/MNIST/raw\n",
            "\n",
            "CNNMnist(\n",
            "  (conv1): Conv2d(1, 10, kernel_size=(5, 5), stride=(1, 1))\n",
            "  (conv2): Conv2d(10, 20, kernel_size=(5, 5), stride=(1, 1))\n",
            "  (conv2_drop): Dropout2d(p=0.5, inplace=False)\n",
            "  (fc1): Linear(in_features=320, out_features=50, bias=True)\n",
            "  (fc2): Linear(in_features=50, out_features=10, bias=True)\n",
            ")\n"
          ]
        }
      ]
    },
    {
      "cell_type": "markdown",
      "source": [
        "Information of CNN model before training:\n",
        "\n",
        "**CNNMnist** (\n",
        "  \n",
        "\n",
        "*   (conv1):         Conv2d (1, 10, kernel_size=(5, 5), stride=(1, 1))\n",
        "*   (conv2):         Conv2d (10, 20, kernel_size=(5, 5), stride=(1, 1))\n",
        "*   (conv2_drop):    Dropout2d (p=0.5, inplace=False)\n",
        "*   (fc1):           Linear (in_features=320, out_features=50, bias=True)\n",
        "*   (fc2):           Linear (in_features=50, out_features=10, bias=True)\n",
        "\n",
        ")"
      ],
      "metadata": {
        "id": "WSwaj7Mak0nm"
      }
    },
    {
      "cell_type": "markdown",
      "source": [
        "## The function to test the trained model\n",
        "\n",
        "Next, let's define a function to test our trained model."
      ],
      "metadata": {
        "id": "QhWb7SKXVXQG"
      }
    },
    {
      "cell_type": "code",
      "source": [
        "def test_img(net_g, datatest, args):\n",
        "    \"\"\"\n",
        "      Test trained model\n",
        "      :param net_g: The trained model\n",
        "      :param datatest: The dataset\n",
        "      :return: Accuracy and test loss\n",
        "    \"\"\"\n",
        "    net_g.eval()\n",
        "    # testing\n",
        "    test_loss = 0\n",
        "    correct = 0\n",
        "    data_loader = DataLoader(datatest, batch_size=args[\"bs\"])\n",
        "    l = len(data_loader)\n",
        "    for idx, (data, target) in enumerate(data_loader):\n",
        "        if args[\"gpu\"] != -1:\n",
        "            data, target = data, target\n",
        "        log_probs = net_g(data)\n",
        "        # sum up batch loss\n",
        "        test_loss += F.cross_entropy(log_probs, target, reduction='sum').item()\n",
        "        # get the index of the max log-probability\n",
        "        y_pred = log_probs.data.max(1, keepdim=True)[1]\n",
        "        correct += y_pred.eq(target.data.view_as(y_pred)).long().cpu().sum()\n",
        "\n",
        "    test_loss /= len(data_loader.dataset)\n",
        "    accuracy = 100.00 * correct / len(data_loader.dataset)\n",
        "    if args[\"verbose\"]:\n",
        "        print('\\nTest set: Average loss: {:.4f} \\nAccuracy: {}/{} ({:.2f}%)\\n'.format(\n",
        "            test_loss, correct, len(data_loader.dataset), accuracy))\n",
        "    return accuracy, test_loss"
      ],
      "metadata": {
        "id": "J5gtV2Ri_f-s"
      },
      "execution_count": null,
      "outputs": []
    },
    {
      "cell_type": "markdown",
      "source": [
        "## Training and Testing\n",
        "\n",
        "It's time to implement a solution using FL for handwritting recognition using the aforementioned prepared methods and classes."
      ],
      "metadata": {
        "id": "spNndIcZtZ3h"
      }
    },
    {
      "cell_type": "code",
      "source": [
        "# training\n",
        "loss_train = []\n",
        "cv_loss, cv_acc = [], []\n",
        "val_loss_pre, counter = 0, 0\n",
        "net_best = None\n",
        "best_loss = None\n",
        "val_acc_list, net_list = [], []\n",
        "\n",
        "if args[\"all_clients\"]: \n",
        "  print(\"Aggregation over all clients\")\n",
        "  w_locals = [w_glob for i in range(args[\"num_users\"])]\n",
        "for iter in range(args[\"epochs\"]):\n",
        "  loss_locals = []\n",
        "  if not args[\"all_clients\"]:\n",
        "    w_locals = []\n",
        "  m = max(int(args[\"frac\"] * args[\"num_users\"]), 1)\n",
        "  idxs_users = np.random.choice(range(args[\"num_users\"]), m, replace=False)\n",
        "  for idx in idxs_users:\n",
        "    local = LocalUpdate(args=args, dataset=dataset_train, idxs=dict_users[idx])\n",
        "    w, loss = local.train(net=copy.deepcopy(net_glob).to(args[\"device\"]))\n",
        "    if args[\"all_clients\"]:\n",
        "      w_locals[idx] = copy.deepcopy(w)\n",
        "    else:\n",
        "      w_locals.append(copy.deepcopy(w))\n",
        "    loss_locals.append(copy.deepcopy(loss))\n",
        "  \n",
        "  # update global weights\n",
        "  w_glob = FedAvg(w_locals)\n",
        "\n",
        "  # copy weight to net_glob\n",
        "  net_glob.load_state_dict(w_glob)\n",
        "\n",
        "  # print loss\n",
        "  loss_avg = sum(loss_locals) / len(loss_locals)\n",
        "  print('Round {:3d}, Average loss {:.3f}\\r\\n'.format(iter, loss_avg))\n",
        "  loss_train.append(loss_avg)\n",
        "\n",
        "\n",
        "# plot loss curve\n",
        "plt.figure()\n",
        "plt.plot(range(len(loss_train)), loss_train)\n",
        "plt.ylabel('train_loss')\n",
        "plt.show()\n",
        "\n",
        "# testing\n",
        "net_glob.eval()\n",
        "acc_train, loss_train = test_img(net_glob, dataset_train, args)\n",
        "acc_test, loss_test = test_img(net_glob, dataset_test, args)\n",
        "print(\"Training accuracy: {:.2f}\".format(acc_train))\n",
        "print(\"Testing accuracy: {:.2f}\".format(acc_test))"
      ],
      "metadata": {
        "colab": {
          "base_uri": "https://localhost:8080/",
          "height": 661
        },
        "id": "Y_b0uvSt5J1M",
        "outputId": "dd14026c-6bf2-409b-8d7a-b965b443fae7"
      },
      "execution_count": null,
      "outputs": [
        {
          "output_type": "stream",
          "name": "stdout",
          "text": [
            "Round   0, Average loss 1.739\r\n",
            "\n",
            "Round   1, Average loss 0.855\n",
            "\n",
            "Round   2, Average loss 0.597\n",
            "\n",
            "Round   3, Average loss 0.491\n",
            "\n",
            "Round   4, Average loss 0.410\n",
            "\n",
            "Round   5, Average loss 0.372\n",
            "\n",
            "Round   6, Average loss 0.345\n",
            "\n",
            "Round   7, Average loss 0.323\n",
            "\n",
            "Round   8, Average loss 0.298\n",
            "\n",
            "Round   9, Average loss 0.283\n",
            "\n"
          ]
        },
        {
          "output_type": "display_data",
          "data": {
            "text/plain": [
              "<Figure size 432x288 with 1 Axes>"
            ],
            "image/png": "[encoded data removed]"
          },
          "metadata": {
            "needs_background": "light"
          }
        },
        {
          "output_type": "stream",
          "name": "stdout",
          "text": [
            "Training accuracy: 96.54\n",
            "Testing accuracy: 96.69\n"
          ]
        }
      ]
    },
    {
      "cell_type": "markdown",
      "source": [
        "## Results comparison\n",
        "\n",
        "![Screen Shot 2022-06-01 at 00.33.00.png](data:image/png;base64,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)"
      ],
      "metadata": {
        "id": "IItcJgIODT6k"
      }
    },
    {
      "cell_type": "markdown",
      "source": [
        "# Federated Transfer Learning with PyTorch"
      ],
      "metadata": {
        "id": "11NgzZk7PAl9"
      }
    },
    {
      "cell_type": "markdown",
      "source": [
        "Federated Transfer Learning (FTL) was introduced in [Secure federated transfer Learning](https://ieeexplore.ieee.org/abstract/document/9076003) to improve statistical models under a data federation that allow knowledge to be shared without compromising user privacy, and enable complementary knowledge to be transferred in the network.\n",
        " \n",
        "To make a simple demonstration, we are going to build a global model (MNIST) and transmit this model over different simulated clients for training and updating."
      ],
      "metadata": {
        "id": "El5FG75HLgaR"
      }
    },
    {
      "cell_type": "markdown",
      "source": [
        "## Essential Library/Packages"
      ],
      "metadata": {
        "id": "0dz_tGz5ytJ0"
      }
    },
    {
      "cell_type": "code",
      "source": [
        "from torch.optim.lr_scheduler import ReduceLROnPlateau\n",
        "from sklearn.metrics import accuracy_score, recall_score, precision_score, f1_score\n",
        "from os.path import exists\n",
        "\n",
        "DEVICE = 'cuda' if torch.cuda.is_available() else 'cpu'"
      ],
      "metadata": {
        "id": "om8y2Y3id4eZ"
      },
      "execution_count": null,
      "outputs": []
    },
    {
      "cell_type": "markdown",
      "source": [
        "First, we reload MNIST dataset and split the data to build public model by the following function, called splitData."
      ],
      "metadata": {
        "id": "F30i3bZSgNDG"
      }
    },
    {
      "cell_type": "markdown",
      "source": [
        "## Data spliter"
      ],
      "metadata": {
        "id": "Rm7pJOU5zEn2"
      }
    },
    {
      "cell_type": "code",
      "source": [
        "def splitData(r, dataset_train):\n",
        "  result = []\n",
        "  for i in r:\n",
        "      result.append(dataset_train[i])\n",
        "  return result"
      ],
      "metadata": {
        "id": "nGtt3Y0OHfW3"
      },
      "execution_count": null,
      "outputs": []
    },
    {
      "cell_type": "markdown",
      "source": [
        "## Public model training\n",
        "\n",
        "Now, we define a function to train and evaluate the accuracy and loss after training public model"
      ],
      "metadata": {
        "id": "Cng7pRRqn1ux"
      }
    },
    {
      "cell_type": "code",
      "source": [
        "def train(n_epochs, trainloader, validloader, model, optimizer, criterion, save_dir = './Global_CNN.pt'):\n",
        "    model_name = save_dir\n",
        "    scheduler = ReduceLROnPlateau(optimizer, 'min', patience=5, verbose=True, min_lr=1e-10)\n",
        "    \n",
        "    valid_loss_min = np.Inf # track change in validation loss\n",
        "    epoch_train_loss =[]\n",
        "    epoch_val_loss =[]\n",
        "    \n",
        "    for epoch in range(1, n_epochs+1):\n",
        "        # keep track of training and validation loss\n",
        "        train_loss = 0.0\n",
        "        valid_loss = 0.0\n",
        "        \n",
        "        # train\n",
        "        model.train()\n",
        "        for data, target in trainloader:\n",
        "            # move tensors to GPU if CUDA is available\n",
        "            data, target = data.to(DEVICE), target.to(DEVICE)\n",
        "            optimizer.zero_grad()\n",
        "            output = model(data)\n",
        "            loss = criterion(output, target)\n",
        "            loss.backward()\n",
        "            optimizer.step()\n",
        "            train_loss += loss.item()*data.size(0)\n",
        "        \n",
        "        # validation\n",
        "        model.eval()\n",
        "        y_pred = np.array([],dtype='i')\n",
        "        y_truth = np.array([],dtype='i')\n",
        "        with torch.no_grad():\n",
        "            for data, target in validloader:\n",
        "                # move tensors to GPU if CUDA is available\n",
        "                data, target = data.to(DEVICE), target.to(DEVICE)\n",
        "                output = model(data)\n",
        "                loss = criterion(output, target)\n",
        "                valid_loss += loss.item()*data.size(0)\n",
        "                y_pred = np.concatenate((y_pred, np.argmax(output.clone().detach().cpu().numpy(),axis=1)))\n",
        "                y_truth = np.concatenate((y_truth, target.clone().detach().cpu().numpy()))\n",
        "        \n",
        "        # calculate average losses\n",
        "        train_loss = train_loss/len(trainloader.sampler)\n",
        "        valid_loss = valid_loss/len(validloader.sampler)\n",
        "        epoch_train_loss.append(train_loss)\n",
        "        epoch_val_loss.append(valid_loss)\n",
        "        \n",
        "        acc = accuracy_score(y_truth, y_pred)\n",
        "        rec = recall_score(y_truth, y_pred, average='macro')\n",
        "        prec = precision_score(y_truth, y_pred, average='macro')\n",
        "        f1 = f1_score(y_truth, y_pred, average='macro')\n",
        "            \n",
        "        # print training/validation statistics \n",
        "        print('Epoch: {} \\tTraining Loss: {:.6f} \\tValidation Loss: {:.6f} \\tAccuracy: {:.2f} \\tF1-Score: {:.2f}'.format(\n",
        "        epoch, train_loss, valid_loss, acc, f1))\n",
        "        \n",
        "        # save model if validation loss has decreased\n",
        "        if valid_loss <= valid_loss_min:\n",
        "            print('Validation loss decreased ({:.6f} --> {:.6f}).  Saving model ...'.format(\n",
        "            valid_loss_min,\n",
        "            valid_loss))\n",
        "            torch.save(model.state_dict(), model_name)\n",
        "            valid_loss_min = valid_loss\n",
        "            \n",
        "        scheduler.step(valid_loss)\n",
        "    \n",
        "    return "
      ],
      "metadata": {
        "id": "c9RN1jtcclrq"
      },
      "execution_count": null,
      "outputs": []
    },
    {
      "cell_type": "markdown",
      "source": [
        "## Public dataset and client dataset preparation\n",
        "\n",
        "Reloading MNIST dataset for preparing to build a public model, and later we will transmit this model to clients."
      ],
      "metadata": {
        "id": "4rjOeXJEg3ab"
      }
    },
    {
      "cell_type": "code",
      "source": [
        "trans_mnist = transforms.Compose([transforms.ToTensor(), transforms.Normalize((0.1307,), (0.3081,))])\n",
        "dataset_train = datasets.MNIST('../data/mnist/', train=True, download=True, transform=trans_mnist)\n",
        "dataset_test = datasets.MNIST('../data/mnist/', train=False, download=True, transform=trans_mnist)\n",
        "\n",
        "PUBLIC_TRAIN = range(0, 40000)\n",
        "PUBLIC_TEST = range(0, 7000)\n",
        "CLIENT_TRAIN = range(40000,len(dataset_train))\n",
        "CLIENT_TEST = range(7000,len(dataset_test))\n",
        "\n",
        "public_dataset_train = splitData(PUBLIC_TRAIN, dataset_train)\n",
        "public_dataset_test = splitData(PUBLIC_TEST, dataset_test)\n",
        "\n",
        "public_train_loader = DataLoader(public_dataset_train, batch_size=32)\n",
        "public_val_loader = DataLoader(public_dataset_test, batch_size=32)\n",
        "\n",
        "client_dataset_train = splitData(CLIENT_TRAIN, dataset_train)\n",
        "client_dataset_test = splitData(CLIENT_TEST, dataset_test)\n",
        "\n",
        "client_train_loader = DataLoader(client_dataset_train, batch_size=32)\n",
        "client_val_loader = DataLoader(client_dataset_test, batch_size=32)\n",
        "\n",
        "model = CNNMnist(args=args)\n",
        "\n",
        "if (exists('./Global_CNN.pt')):\n",
        "  print('Loaded Previous Global Model...')\n",
        "  model.load_state_dict(torch.load('./Global_CNN.pt'))\n",
        "  print(model)\n",
        "else:\n",
        "  print('Training global model first...')\n",
        "  # send model\n",
        "  model.to(DEVICE)\n",
        "  # set optimizer and criterion\n",
        "  criterion = nn.CrossEntropyLoss()\n",
        "  optimizer = torch.optim.SGD(model.parameters(), lr=args['lr'])\n",
        "  scheduler = ReduceLROnPlateau(optimizer, 'min', patience=5, verbose=True, min_lr=1e-10)\n",
        "        \n",
        "  # train global model if no weight is loaded\n",
        "  train(args['epochs'], public_train_loader, public_val_loader, model, optimizer, criterion)\n",
        "        \n",
        "  model.cpu()\n",
        "  model.load_state_dict(torch.load('./Global_CNN.pt'))\n",
        "  print(model)\n",
        "\n",
        "  # copy weights\n",
        "w_glob = model.state_dict()"
      ],
      "metadata": {
        "colab": {
          "base_uri": "https://localhost:8080/"
        },
        "id": "5azpi0zEIuHS",
        "outputId": "a05bddaf-e25c-4ab5-f65a-57a0aa42c12b"
      },
      "execution_count": null,
      "outputs": [
        {
          "output_type": "stream",
          "name": "stdout",
          "text": [
            "Training global model first...\n",
            "Epoch: 1 \tTraining Loss: 1.073850 \tValidation Loss: 0.246893 \tAccuracy: 0.93 \tF1-Score: 0.93\n",
            "Validation loss decreased (inf --> 0.246893).  Saving model ...\n",
            "Epoch: 2 \tTraining Loss: 0.434391 \tValidation Loss: 0.170669 \tAccuracy: 0.95 \tF1-Score: 0.95\n",
            "Validation loss decreased (0.246893 --> 0.170669).  Saving model ...\n",
            "Epoch: 3 \tTraining Loss: 0.333791 \tValidation Loss: 0.131024 \tAccuracy: 0.96 \tF1-Score: 0.96\n",
            "Validation loss decreased (0.170669 --> 0.131024).  Saving model ...\n",
            "Epoch: 4 \tTraining Loss: 0.285894 \tValidation Loss: 0.115869 \tAccuracy: 0.96 \tF1-Score: 0.96\n",
            "Validation loss decreased (0.131024 --> 0.115869).  Saving model ...\n",
            "Epoch: 5 \tTraining Loss: 0.264100 \tValidation Loss: 0.103631 \tAccuracy: 0.96 \tF1-Score: 0.96\n",
            "Validation loss decreased (0.115869 --> 0.103631).  Saving model ...\n",
            "Epoch: 6 \tTraining Loss: 0.244776 \tValidation Loss: 0.095604 \tAccuracy: 0.97 \tF1-Score: 0.97\n",
            "Validation loss decreased (0.103631 --> 0.095604).  Saving model ...\n",
            "Epoch: 7 \tTraining Loss: 0.223354 \tValidation Loss: 0.087167 \tAccuracy: 0.97 \tF1-Score: 0.97\n",
            "Validation loss decreased (0.095604 --> 0.087167).  Saving model ...\n",
            "Epoch: 8 \tTraining Loss: 0.214098 \tValidation Loss: 0.084864 \tAccuracy: 0.97 \tF1-Score: 0.97\n",
            "Validation loss decreased (0.087167 --> 0.084864).  Saving model ...\n",
            "Epoch: 9 \tTraining Loss: 0.202799 \tValidation Loss: 0.081060 \tAccuracy: 0.97 \tF1-Score: 0.97\n",
            "Validation loss decreased (0.084864 --> 0.081060).  Saving model ...\n",
            "Epoch: 10 \tTraining Loss: 0.196661 \tValidation Loss: 0.076510 \tAccuracy: 0.98 \tF1-Score: 0.98\n",
            "Validation loss decreased (0.081060 --> 0.076510).  Saving model ...\n",
            "CNNMnist(\n",
            "  (conv1): Conv2d(1, 10, kernel_size=(5, 5), stride=(1, 1))\n",
            "  (conv2): Conv2d(10, 20, kernel_size=(5, 5), stride=(1, 1))\n",
            "  (conv2_drop): Dropout2d(p=0.5, inplace=False)\n",
            "  (fc1): Linear(in_features=320, out_features=50, bias=True)\n",
            "  (fc2): Linear(in_features=50, out_features=10, bias=True)\n",
            ")\n"
          ]
        }
      ]
    },
    {
      "cell_type": "markdown",
      "source": [
        "## Apply CORAL for calculating loss\n",
        "\n",
        "In Federated Transfer Learning, we will use CORAL (Correlation Alignment for Deep Domain Adaptation) for calculating loss. CORAL can learn a nonlinear transformation that aligns correlations of layer activations in deep neural networks (Deep CORAL)"
      ],
      "metadata": {
        "id": "gh7e61eqm4hy"
      }
    },
    {
      "cell_type": "code",
      "source": [
        "def CORAL(source, target):\n",
        "    # this implementation comes from https://github.com/SSARCandy/DeepCORAL\n",
        "    d = source.data.shape[1]\n",
        "\n",
        "    # source covariance\n",
        "    xm = torch.mean(source, 0, keepdim=True) - source\n",
        "    xc = xm.t() @ xm\n",
        "\n",
        "    # target covariance\n",
        "    xmt = torch.mean(target, 0, keepdim=True) - target\n",
        "    xct = xmt.t() @ xmt\n",
        "\n",
        "    # frobenius norm between source and target\n",
        "    loss = torch.mean(torch.mul((xc - xct), (xc - xct)))\n",
        "    loss = loss/(4*d*d)\n",
        "\n",
        "    return loss"
      ],
      "metadata": {
        "id": "60IzkzHKzPYA"
      },
      "execution_count": null,
      "outputs": []
    },
    {
      "cell_type": "markdown",
      "source": [
        "## Layer Freezing\n",
        "\n",
        "Freezing a layer prevents its weights from being modified. This technique is often used in transfer learning, where the base model(trained on some other dataset)is frozen. Therefore, we need a method to do that particular function."
      ],
      "metadata": {
        "id": "eby9UFcIpxv8"
      }
    },
    {
      "cell_type": "code",
      "source": [
        "def freeze_layer(model, num_layers):\n",
        "    ct = 0\n",
        "    for child in model.children():\n",
        "        ct += 1\n",
        "        if ct <= num_layers:\n",
        "            for param in child.parameters():\n",
        "                param.requires_grad = False"
      ],
      "metadata": {
        "id": "I10R_8hTx52s"
      },
      "execution_count": null,
      "outputs": []
    },
    {
      "cell_type": "markdown",
      "source": [
        "## Transfer Learning for each round\n",
        "\n",
        "The below is an added part that differs from Federated Learning, which is Transfer Learning among clients."
      ],
      "metadata": {
        "id": "bsngujKntHxx"
      }
    },
    {
      "cell_type": "code",
      "source": [
        "def transfer_learning(local_model, local_dataloader, public_dataloader, coral_lambda):\n",
        "    # use coral and calculate forward with local model on public dataset and own dataset\n",
        "    local_model.train()\n",
        "    local_model.to(DEVICE)\n",
        "        \n",
        "    opt = torch.optim.SGD(local_model.parameters(),\n",
        "                             lr=args['lr'], \n",
        "                             weight_decay= args['weight_decay'], \n",
        "                             momentum = args['momentum'])\n",
        "    criterion = torch.nn.CrossEntropyLoss()\n",
        "        \n",
        "    for epoch in range(args['local_ep']):\n",
        "        client_dataset = local_dataloader.__iter__()\n",
        "        for source_img, source_label in public_dataloader:\n",
        "            try:\n",
        "                target_img, target_label = next(client_dataset)\n",
        "            except StopIteration:\n",
        "                client_dataset = local_dataloader.__iter__()\n",
        "                target_img, target_label = next(client_dataset)\n",
        "\n",
        "            source_img = source_img.to(DEVICE)\n",
        "            source_label = source_label.to(DEVICE)\n",
        "            target_img = target_img.to(DEVICE)\n",
        "            target_label = target_label.to(DEVICE)\n",
        "                \n",
        "            opt.zero_grad()\n",
        "                \n",
        "            # forward\n",
        "            out_source = local_model(source_img)\n",
        "            out_target = local_model(target_img)\n",
        "                \n",
        "            # calculate loss\n",
        "            cl_loss_source = criterion(out_source, source_label)\n",
        "            cl_loss_target = criterion(out_target, target_label)\n",
        "                \n",
        "            # calculate CORAL\n",
        "            coral_loss = CORAL(out_source, out_target)\n",
        "                \n",
        "            total_loss =  coral_lambda * coral_loss + cl_loss_target + cl_loss_source\n",
        "                \n",
        "            total_loss.backward()\n",
        "                \n",
        "            opt.step()\n",
        "                \n",
        "    local_model.to(\"cpu\")"
      ],
      "metadata": {
        "id": "Ygb-qDJlyGPB"
      },
      "execution_count": null,
      "outputs": []
    },
    {
      "cell_type": "markdown",
      "source": [
        "## Local Evaluation\n",
        "\n",
        "After finishing transfer leanring, the loss, accuracy, recall, precision, and f1-score will be calculated as below."
      ],
      "metadata": {
        "id": "e_pd78cqwCBF"
      }
    },
    {
      "cell_type": "code",
      "source": [
        "def local_evaluation(model, test_dataloader, train_dataloader):\n",
        "        model.eval()\n",
        "        model.to(DEVICE)\n",
        "        \n",
        "        loss = 0.0\n",
        "        criterion = torch.nn.CrossEntropyLoss()\n",
        "        \n",
        "        y_pred = np.array([],dtype='i')\n",
        "        y_truth = np.array([],dtype='i')\n",
        "        with torch.no_grad():\n",
        "            for data,target in test_dataloader:\n",
        "                data, target = data.to(DEVICE), target.to(DEVICE)\n",
        "\n",
        "                outputs = model(data)\n",
        "                loss += criterion(outputs, target).item() * data.size(0)\n",
        "\n",
        "                y_pred = np.concatenate((y_pred, np.argmax(outputs.clone().detach().cpu().numpy(),axis=1)))\n",
        "                y_truth = np.concatenate((y_truth, target.clone().detach().cpu().numpy()))\n",
        "\n",
        "                if DEVICE == \"cuda\": torch.cuda.empty_cache()\n",
        "        model.to(\"cpu\")\n",
        "        \n",
        "        test_loss = loss / len(train_dataloader)\n",
        "        acc = accuracy_score(y_truth, y_pred)\n",
        "        rec = recall_score(y_truth, y_pred, average='macro')\n",
        "        prec = precision_score(y_truth, y_pred, average='macro')\n",
        "        f1 = f1_score(y_truth, y_pred, average='macro')\n",
        "            \n",
        "        return test_loss, acc, rec, prec, f1"
      ],
      "metadata": {
        "id": "YZon3bPN6sdg"
      },
      "execution_count": null,
      "outputs": []
    },
    {
      "cell_type": "markdown",
      "source": [
        "## Update after each local epoch\n",
        "\n",
        "Also, we define a new local update function (represent for each client)"
      ],
      "metadata": {
        "id": "D-kGrtHUxak1"
      }
    },
    {
      "cell_type": "code",
      "source": [
        "def local_update(model, dataloader):\n",
        "        model.train()\n",
        "        model.to(DEVICE)\n",
        "        \n",
        "        opt = torch.optim.SGD(model.parameters(),\n",
        "                             lr=args['lr'], \n",
        "                             weight_decay= args['weight_decay'], \n",
        "                             momentum = args['momentum'])\n",
        "        criterion = torch.nn.CrossEntropyLoss()\n",
        "        \n",
        "        for epoch in range(args['local_ep']):\n",
        "            for data,target in dataloader:\n",
        "                data, target = data.to(DEVICE), target.to(DEVICE)\n",
        "\n",
        "                opt.zero_grad()\n",
        "                outputs = model(data)\n",
        "                loss = criterion(outputs, target)\n",
        "\n",
        "                loss.backward()\n",
        "                opt.step() \n",
        "        \n",
        "        model.to(\"cpu\")\n",
        "        return model"
      ],
      "metadata": {
        "id": "W8DyFgDi4XMc"
      },
      "execution_count": null,
      "outputs": []
    },
    {
      "cell_type": "markdown",
      "source": [
        "## Training and Testing\n",
        "\n",
        "Let's start to perform a simulation for Federated Transfer Learning"
      ],
      "metadata": {
        "id": "DTfGnEBbx9FL"
      }
    },
    {
      "cell_type": "code",
      "source": [
        "# freeze some layer of the model\n",
        "freeze_layer(model,2)\n",
        "\n",
        "# training\n",
        "loss_train = []\n",
        "cv_loss, cv_acc = [], []\n",
        "val_loss_pre, counter = 0, 0\n",
        "net_best = None\n",
        "best_loss = None\n",
        "val_acc_list, net_list = [], []\n",
        "args[\"num_users\"] = 10\n",
        "args[\"epochs\"] = 2\n",
        "\n",
        "if args[\"all_clients\"]: \n",
        "  print(\"Aggregation over all clients\")\n",
        "  w_locals = [w_glob for i in range(args[\"num_users\"])]\n",
        "for iter in range(args[\"epochs\"]):\n",
        "  loss_locals = []\n",
        "  if not args[\"all_clients\"]:\n",
        "    w_locals = []\n",
        "  m = max(int(args[\"frac\"] * args[\"num_users\"]), 1)\n",
        "  idxs_users = np.random.choice(range(args[\"num_users\"]), m, replace=False)\n",
        "  for idx in idxs_users:\n",
        "    local = local_update(copy.deepcopy(model), copy.deepcopy(client_train_loader))\n",
        "    w = local.state_dict()\n",
        "\n",
        "    if args[\"all_clients\"]:\n",
        "      w_locals[idx] = copy.deepcopy(w)\n",
        "    else:\n",
        "      w_locals.append(copy.deepcopy(w))\n",
        "\n",
        "    transfer_learning(local, copy.deepcopy(client_train_loader), copy.deepcopy(public_train_loader), args['lambda_coral'])\n",
        "\n",
        "    test_loss, acc, rec, prec, f1 = local_evaluation(copy.deepcopy(local), copy.deepcopy(client_val_loader), copy.deepcopy(client_train_loader))\n",
        "\n",
        "    print(f\"Round {iter}: \\t Client {idx} Accuracy: {acc} \\tRecall: {rec} \\tPrecission:{prec} \\tF1-score: {f1}\")\n",
        "\n",
        "    loss_locals.append(copy.deepcopy(test_loss))\n",
        "\n",
        "  # update global weights\n",
        "  w_glob = FedAvg(w_locals)\n",
        "\n",
        "  # copy weight to net_glob\n",
        "  net_glob.load_state_dict(w_glob)\n",
        "\n",
        "  # print loss\n",
        "  loss_avg = sum(loss_locals) / len(loss_locals)\n",
        "  print('Round {:3d}, Average loss {:.3f}\\r\\n'.format(iter, loss_avg))\n",
        "  loss_train.append(loss_avg)\n",
        "\n",
        "\n",
        "# plot loss curve\n",
        "plt.figure()\n",
        "plt.plot(range(len(loss_train)), loss_train)\n",
        "plt.ylabel('train_loss')\n",
        "plt.show()\n",
        "\n",
        "# testing\n",
        "model.eval()\n",
        "acc_train, loss_train = test_img(model, dataset_train, args)\n",
        "acc_test, loss_test = test_img(model, dataset_test, args)\n",
        "print(\"Training accuracy: {:.2f}\".format(acc_train))\n",
        "print(\"Testing accuracy: {:.2f}\".format(acc_test))"
      ],
      "metadata": {
        "colab": {
          "base_uri": "https://localhost:8080/",
          "height": 426
        },
        "id": "e8mauHFAMD07",
        "outputId": "c6cb8d7f-10b9-4f9d-d43e-a96cafb2bf29"
      },
      "execution_count": null,
      "outputs": [
        {
          "output_type": "stream",
          "name": "stdout",
          "text": [
            "Aggregation over all clients\n",
            "Round 0: \t Client 4 Accuracy: 0.9906666666666667 \tRecall: 0.9905506284798407 \tPrecission:0.9908033567179115 \tF1-score: 0.9906437469933635\n",
            "Round   0, Average loss 0.272\n",
            "\n",
            "Round 1: \t Client 9 Accuracy: 0.9913333333333333 \tRecall: 0.9911946214505664 \tPrecission:0.9914101496688408 \tF1-score: 0.9912816287147646\n",
            "Round   1, Average loss 0.258\n",
            "\n"
          ]
        },
        {
          "output_type": "display_data",
          "data": {
            "text/plain": [
              "<Figure size 432x288 with 1 Axes>"
            ],
            "image/png": "[encoded data removed]"
          },
          "metadata": {
            "needs_background": "light"
          }
        },
        {
          "output_type": "stream",
          "name": "stdout",
          "text": [
            "Training accuracy: 97.96\n",
            "Testing accuracy: 98.04\n"
          ]
        }
      ]
    },
    {
      "cell_type": "markdown",
      "source": [
        "After training and testing, we found that the accuracy have been improved despite the fact that the epoch was reduced to 2.\n",
        "\n",
        "- Training accuracy: 97.96\n",
        "\n",
        "- Testing accuracy: 98.04"
      ],
      "metadata": {
        "id": "cs9H2juR1PKC"
      }
    },
    {
      "cell_type": "markdown",
      "source": [
        "# Comparison\n",
        "\n",
        "After running two algorithms FL and FTL, the final result in FTL is better accuracy for both training and testing comparing with FL.\n",
        "\n",
        "- Federated Learning: \n",
        "   Training accuracy: 96.54, Testing accuracy: 96.69\n",
        "- Federated Transfer Learning: \n",
        "   Training accuracy: 97.96, Testing accuracy: 98.04"
      ],
      "metadata": {
        "id": "78bs9MRC2bbt"
      }
    },
    {
      "cell_type": "markdown",
      "source": [
        "# Reference\n",
        "\n",
        "- https://github.com/SSARCandy/DeepCORAL\n",
        "- https://github.com/AshwinRJ/Federated-Learning-PyTorch\n",
        "- https://github.com/mania087/HAR-Federated-Transfer-Learning-in-Pytorch"
      ],
      "metadata": {
        "id": "QQ7TvUSi2GoK"
      }
    }
  ]
}